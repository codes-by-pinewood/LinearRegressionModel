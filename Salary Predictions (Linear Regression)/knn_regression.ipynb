{
 "cells": [
  {
   "cell_type": "code",
   "execution_count": 20,
   "id": "308612b6",
   "metadata": {},
   "outputs": [],
   "source": [
    "# Impoort libraries\n",
    "import pandas as pd\n",
    "import numpy as np\n",
    "\n",
    "#Import Neighbors\n",
    "from sklearn import neighbors\n",
    "from sklearn.metrics import mean_squared_error\n",
    "from math import sqrt"
   ]
  },
  {
   "cell_type": "code",
   "execution_count": null,
   "id": "d11c5c18",
   "metadata": {},
   "outputs": [],
   "source": [
    "# read data \n",
    "df = pd.read_csv(\"Downloads/Salary_Data.csv\")"
   ]
  },
  {
   "cell_type": "code",
   "execution_count": 21,
   "id": "52479402",
   "metadata": {},
   "outputs": [
    {
     "data": {
      "text/html": [
       "<div>\n",
       "<style scoped>\n",
       "    .dataframe tbody tr th:only-of-type {\n",
       "        vertical-align: middle;\n",
       "    }\n",
       "\n",
       "    .dataframe tbody tr th {\n",
       "        vertical-align: top;\n",
       "    }\n",
       "\n",
       "    .dataframe thead th {\n",
       "        text-align: right;\n",
       "    }\n",
       "</style>\n",
       "<table border=\"1\" class=\"dataframe\">\n",
       "  <thead>\n",
       "    <tr style=\"text-align: right;\">\n",
       "      <th></th>\n",
       "      <th>YearsExperience</th>\n",
       "      <th>Salary</th>\n",
       "    </tr>\n",
       "  </thead>\n",
       "  <tbody>\n",
       "    <tr>\n",
       "      <th>count</th>\n",
       "      <td>30.000000</td>\n",
       "      <td>30.000000</td>\n",
       "    </tr>\n",
       "    <tr>\n",
       "      <th>mean</th>\n",
       "      <td>5.313333</td>\n",
       "      <td>76003.000000</td>\n",
       "    </tr>\n",
       "    <tr>\n",
       "      <th>std</th>\n",
       "      <td>2.837888</td>\n",
       "      <td>27414.429785</td>\n",
       "    </tr>\n",
       "    <tr>\n",
       "      <th>min</th>\n",
       "      <td>1.100000</td>\n",
       "      <td>37731.000000</td>\n",
       "    </tr>\n",
       "    <tr>\n",
       "      <th>25%</th>\n",
       "      <td>3.200000</td>\n",
       "      <td>56720.750000</td>\n",
       "    </tr>\n",
       "    <tr>\n",
       "      <th>50%</th>\n",
       "      <td>4.700000</td>\n",
       "      <td>65237.000000</td>\n",
       "    </tr>\n",
       "    <tr>\n",
       "      <th>75%</th>\n",
       "      <td>7.700000</td>\n",
       "      <td>100544.750000</td>\n",
       "    </tr>\n",
       "    <tr>\n",
       "      <th>max</th>\n",
       "      <td>10.500000</td>\n",
       "      <td>122391.000000</td>\n",
       "    </tr>\n",
       "  </tbody>\n",
       "</table>\n",
       "</div>"
      ],
      "text/plain": [
       "       YearsExperience         Salary\n",
       "count        30.000000      30.000000\n",
       "mean          5.313333   76003.000000\n",
       "std           2.837888   27414.429785\n",
       "min           1.100000   37731.000000\n",
       "25%           3.200000   56720.750000\n",
       "50%           4.700000   65237.000000\n",
       "75%           7.700000  100544.750000\n",
       "max          10.500000  122391.000000"
      ]
     },
     "execution_count": 21,
     "metadata": {},
     "output_type": "execute_result"
    }
   ],
   "source": [
    "df.describe()"
   ]
  },
  {
   "cell_type": "code",
   "execution_count": 28,
   "id": "e2803a8a",
   "metadata": {},
   "outputs": [
    {
     "data": {
      "text/plain": [
       "YearsExperience    0\n",
       "Salary             0\n",
       "dtype: int64"
      ]
     },
     "execution_count": 28,
     "metadata": {},
     "output_type": "execute_result"
    }
   ],
   "source": [
    "# Check for null values\n",
    "df.isnull().sum()"
   ]
  },
  {
   "cell_type": "markdown",
   "id": "cccd567e",
   "metadata": {},
   "source": [
    "Since there are no null values, there is no need to drop columns or do imputation."
   ]
  },
  {
   "cell_type": "code",
   "execution_count": 29,
   "id": "42323d28",
   "metadata": {},
   "outputs": [],
   "source": [
    "#Split data into training and testing data \n",
    "from sklearn.model_selection import train_test_split\n",
    "train, test = train_test_split(df, test_size = 0.3)"
   ]
  },
  {
   "cell_type": "code",
   "execution_count": 24,
   "id": "de016bed",
   "metadata": {},
   "outputs": [],
   "source": [
    "x_train = train.drop('Salary', axis=1)\n",
    "y_train = train.drop('YearsExperience', axis=1)\n",
    "\n",
    "x_test = test.drop('Salary', axis=1)\n",
    "y_test = test.drop('YearsExperience', axis=1)"
   ]
  },
  {
   "cell_type": "code",
   "execution_count": 31,
   "id": "e0e3dcd2",
   "metadata": {},
   "outputs": [
    {
     "name": "stdout",
     "output_type": "stream",
     "text": [
      "RMSE value for k=  1 is: 6401.018990060185\n",
      "RMSE value for k=  2 is: 7010.124010236116\n",
      "RMSE value for k=  3 is: 5641.084931985739\n",
      "RMSE value for k=  4 is: 6824.844957538922\n",
      "RMSE value for k=  5 is: 9003.319207442946\n",
      "RMSE value for k=  6 is: 9591.373075437228\n",
      "RMSE value for k=  7 is: 10382.672141187126\n",
      "RMSE value for k=  8 is: 11601.10382941054\n",
      "RMSE value for k=  9 is: 12705.114316618878\n",
      "RMSE value for k=  10 is: 14462.663539111856\n",
      "RMSE value for k=  11 is: 16318.330294954918\n",
      "RMSE value for k=  12 is: 18272.73141868036\n",
      "RMSE value for k=  13 is: 20230.305926757603\n",
      "RMSE value for k=  14 is: 21932.64134878835\n",
      "RMSE value for k=  15 is: 23306.178111552468\n",
      "RMSE value for k=  16 is: 24789.472474259783\n",
      "RMSE value for k=  17 is: 26118.174517917683\n",
      "RMSE value for k=  18 is: 27596.416027945517\n",
      "RMSE value for k=  19 is: 29029.64456425947\n",
      "RMSE value for k=  20 is: 30613.644494371747\n"
     ]
    }
   ],
   "source": [
    "rmse_val = []\n",
    "for K in range(20): \n",
    "    K = K+1\n",
    "    \n",
    "    #Fit the model\n",
    "    model = neighbors.KNeighborsRegressor(n_neighbors = K)\n",
    "    model.fit(x_train, y_train)\n",
    "    \n",
    "    #Make prediction on test set \n",
    "    pred = model.predict(x_test)\n",
    "    \n",
    "    #Calculator RMSE (difference in prediction and y_test)\n",
    "    error = sqrt(mean_squared_error(y_test, pred))\n",
    "    rmse_val.append(error)\n",
    "    print('RMSE value for k= ' , K , 'is:', error)"
   ]
  },
  {
   "cell_type": "markdown",
   "id": "f6f3faf4",
   "metadata": {},
   "source": [
    "k = 3 has the lowest Root Mean Squared Error"
   ]
  }
 ],
 "metadata": {
  "kernelspec": {
   "display_name": "Python 3 (ipykernel)",
   "language": "python",
   "name": "python3"
  },
  "language_info": {
   "codemirror_mode": {
    "name": "ipython",
    "version": 3
   },
   "file_extension": ".py",
   "mimetype": "text/x-python",
   "name": "python",
   "nbconvert_exporter": "python",
   "pygments_lexer": "ipython3",
   "version": "3.9.7"
  }
 },
 "nbformat": 4,
 "nbformat_minor": 5
}
