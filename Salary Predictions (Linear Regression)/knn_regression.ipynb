{
 "cells": [
  {
   "cell_type": "code",
   "execution_count": 43,
   "id": "308612b6",
   "metadata": {},
   "outputs": [],
   "source": [
    "# Impoort libraries\n",
    "import pandas as pd\n",
    "import numpy as np\n",
    "import matplotlib.pyplot as plt\n",
    "\n",
    "#Import Neighbors\n",
    "from sklearn.neighbors import KNeighborsRegressor\n",
    "from sklearn.metrics import mean_squared_error\n",
    "from math import sqrt"
   ]
  },
  {
   "cell_type": "code",
   "execution_count": 44,
   "id": "d11c5c18",
   "metadata": {},
   "outputs": [],
   "source": [
    "# read data \n",
    "df = pd.read_csv(\"Downloads/Salary_Data.csv\")"
   ]
  },
  {
   "cell_type": "code",
   "execution_count": 45,
   "id": "52479402",
   "metadata": {},
   "outputs": [
    {
     "data": {
      "text/html": [
       "<div>\n",
       "<style scoped>\n",
       "    .dataframe tbody tr th:only-of-type {\n",
       "        vertical-align: middle;\n",
       "    }\n",
       "\n",
       "    .dataframe tbody tr th {\n",
       "        vertical-align: top;\n",
       "    }\n",
       "\n",
       "    .dataframe thead th {\n",
       "        text-align: right;\n",
       "    }\n",
       "</style>\n",
       "<table border=\"1\" class=\"dataframe\">\n",
       "  <thead>\n",
       "    <tr style=\"text-align: right;\">\n",
       "      <th></th>\n",
       "      <th>YearsExperience</th>\n",
       "      <th>Salary</th>\n",
       "    </tr>\n",
       "  </thead>\n",
       "  <tbody>\n",
       "    <tr>\n",
       "      <th>count</th>\n",
       "      <td>30.000000</td>\n",
       "      <td>30.000000</td>\n",
       "    </tr>\n",
       "    <tr>\n",
       "      <th>mean</th>\n",
       "      <td>5.313333</td>\n",
       "      <td>76003.000000</td>\n",
       "    </tr>\n",
       "    <tr>\n",
       "      <th>std</th>\n",
       "      <td>2.837888</td>\n",
       "      <td>27414.429785</td>\n",
       "    </tr>\n",
       "    <tr>\n",
       "      <th>min</th>\n",
       "      <td>1.100000</td>\n",
       "      <td>37731.000000</td>\n",
       "    </tr>\n",
       "    <tr>\n",
       "      <th>25%</th>\n",
       "      <td>3.200000</td>\n",
       "      <td>56720.750000</td>\n",
       "    </tr>\n",
       "    <tr>\n",
       "      <th>50%</th>\n",
       "      <td>4.700000</td>\n",
       "      <td>65237.000000</td>\n",
       "    </tr>\n",
       "    <tr>\n",
       "      <th>75%</th>\n",
       "      <td>7.700000</td>\n",
       "      <td>100544.750000</td>\n",
       "    </tr>\n",
       "    <tr>\n",
       "      <th>max</th>\n",
       "      <td>10.500000</td>\n",
       "      <td>122391.000000</td>\n",
       "    </tr>\n",
       "  </tbody>\n",
       "</table>\n",
       "</div>"
      ],
      "text/plain": [
       "       YearsExperience         Salary\n",
       "count        30.000000      30.000000\n",
       "mean          5.313333   76003.000000\n",
       "std           2.837888   27414.429785\n",
       "min           1.100000   37731.000000\n",
       "25%           3.200000   56720.750000\n",
       "50%           4.700000   65237.000000\n",
       "75%           7.700000  100544.750000\n",
       "max          10.500000  122391.000000"
      ]
     },
     "execution_count": 45,
     "metadata": {},
     "output_type": "execute_result"
    }
   ],
   "source": [
    "df.describe()"
   ]
  },
  {
   "cell_type": "code",
   "execution_count": 46,
   "id": "e2803a8a",
   "metadata": {},
   "outputs": [
    {
     "data": {
      "text/plain": [
       "YearsExperience    0\n",
       "Salary             0\n",
       "dtype: int64"
      ]
     },
     "execution_count": 46,
     "metadata": {},
     "output_type": "execute_result"
    }
   ],
   "source": [
    "# Check for null values\n",
    "df.isnull().sum()"
   ]
  },
  {
   "cell_type": "markdown",
   "id": "cccd567e",
   "metadata": {},
   "source": [
    "Since there are no null values, there is no need to drop columns or do imputation."
   ]
  },
  {
   "cell_type": "code",
   "execution_count": 47,
   "id": "42323d28",
   "metadata": {},
   "outputs": [],
   "source": [
    "#Split data into training and testing data \n",
    "from sklearn.model_selection import train_test_split\n",
    "train, test = train_test_split(df, test_size = 0.3)"
   ]
  },
  {
   "cell_type": "code",
   "execution_count": 48,
   "id": "de016bed",
   "metadata": {},
   "outputs": [],
   "source": [
    "x_train = train.drop('Salary', axis=1)\n",
    "y_train = train.drop('YearsExperience', axis=1)\n",
    "\n",
    "x_test = test.drop('Salary', axis=1)\n",
    "y_test = test.drop('YearsExperience', axis=1)"
   ]
  },
  {
   "cell_type": "code",
   "execution_count": 49,
   "id": "e0e3dcd2",
   "metadata": {},
   "outputs": [
    {
     "name": "stdout",
     "output_type": "stream",
     "text": [
      "RMSE value for k=  1 is: 7883.985244362989\n",
      "RMSE value for k=  2 is: 5968.487340933956\n",
      "RMSE value for k=  3 is: 7292.472972139336\n",
      "RMSE value for k=  4 is: 5549.580382660577\n",
      "RMSE value for k=  5 is: 5441.167719851645\n",
      "RMSE value for k=  6 is: 5644.442274715243\n",
      "RMSE value for k=  7 is: 6463.178017345666\n",
      "RMSE value for k=  8 is: 6718.045807670437\n",
      "RMSE value for k=  9 is: 8045.723788523137\n",
      "RMSE value for k=  10 is: 9903.605580741236\n",
      "RMSE value for k=  11 is: 11427.17910462841\n",
      "RMSE value for k=  12 is: 12901.265359781099\n",
      "RMSE value for k=  13 is: 13667.099323959215\n",
      "RMSE value for k=  14 is: 14817.414979209421\n",
      "RMSE value for k=  15 is: 15677.335407271823\n",
      "RMSE value for k=  16 is: 16673.162282815894\n",
      "RMSE value for k=  17 is: 18400.207987892238\n",
      "RMSE value for k=  18 is: 19906.59733380245\n",
      "RMSE value for k=  19 is: 21524.492638532978\n",
      "RMSE value for k=  20 is: 22899.35136492832\n"
     ]
    }
   ],
   "source": [
    "rmse_val = []\n",
    "for K in range(20): \n",
    "    K = K+1\n",
    "    \n",
    "    #Fit the model\n",
    "    model = neighbors.KNeighborsRegressor(n_neighbors = K)\n",
    "    model.fit(x_train, y_train)\n",
    "    \n",
    "    #Make prediction on test set \n",
    "    pred = model.predict(x_test)\n",
    "    \n",
    "    #Calculator RMSE (difference in prediction and y_test)\n",
    "    error = sqrt(mean_squared_error(y_test, pred))\n",
    "    rmse_val.append(error)\n",
    "    print('RMSE value for k= ' , K , 'is:', error)"
   ]
  },
  {
   "cell_type": "markdown",
   "id": "f6f3faf4",
   "metadata": {},
   "source": [
    "##### k = 5 has the lowest Root Mean Squared Error"
   ]
  },
  {
   "cell_type": "code",
   "execution_count": 89,
   "id": "0146ca0b",
   "metadata": {},
   "outputs": [],
   "source": [
    "K_one = 1\n",
    "neigh = KNeighborsRegressor(n_neighbors=K_one)\n",
    "neigh.fit(x_train,y_train)\n",
    "\n",
    "X_eval = np.linspace(0, 10,1000)\n",
    "X_eval = X_eval.reshape(-1,1)"
   ]
  },
  {
   "cell_type": "code",
   "execution_count": 90,
   "id": "bc302b69",
   "metadata": {},
   "outputs": [
    {
     "data": {
      "image/png": "[encoded data removed]",
      "text/plain": [
       "<Figure size 432x288 with 1 Axes>"
      ]
     },
     "metadata": {
      "needs_background": "light"
     },
     "output_type": "display_data"
    }
   ],
   "source": [
    "plt.figure()\n",
    "plt.plot(X_eval, neigh.predict(X_eval), label= \"KNN Regression Prediction\")\n",
    "plt.title(\"KNN Regression of Salary\")\n",
    "plt.plot(x_train, y_train, 'rs', markersize=12, label=\"training set\")\n",
    "plt.show()"
   ]
  },
  {
   "cell_type": "markdown",
   "id": "5c551eaa",
   "metadata": {},
   "source": [
    "As you can see, having k =1 (choosing one neighbor to determine prediction) makes the data more locally accurate but also more unpredictable / unreliable. "
   ]
  },
  {
   "cell_type": "code",
   "execution_count": 91,
   "id": "22af8159",
   "metadata": {},
   "outputs": [],
   "source": [
    "K_two = 5\n",
    "neigh = KNeighborsRegressor(n_neighbors=K_two)\n",
    "neigh.fit(x_train,y_train)\n",
    "\n",
    "X_eval = np.linspace(0, 10,1000)\n",
    "X_eval = X_eval.reshape(-1,1)"
   ]
  },
  {
   "cell_type": "code",
   "execution_count": 93,
   "id": "824a9f42",
   "metadata": {},
   "outputs": [
    {
     "data": {
      "image/png": "[encoded data removed]",
      "text/plain": [
       "<Figure size 432x288 with 1 Axes>"
      ]
     },
     "metadata": {
      "needs_background": "light"
     },
     "output_type": "display_data"
    }
   ],
   "source": [
    "plt.figure()\n",
    "plt.plot(X_eval, neigh.predict(X_eval), label= \"KNN Regression Prediction\")\n",
    "plt.title(\"KNN Regression of Salary\")\n",
    "plt.plot(x_train, y_train, 'bo', markersize=12, label=\"training set\")\n",
    "plt.show()"
   ]
  },
  {
   "cell_type": "markdown",
   "id": "2d97a39d",
   "metadata": {},
   "source": [
    "As you can see, having k = 5 makes the data more reliable but also more locally inaccurate. "
   ]
  },
  {
   "cell_type": "code",
   "execution_count": 95,
   "id": "acc2b9dd",
   "metadata": {},
   "outputs": [],
   "source": [
    "K_three = 8\n",
    "neigh = KNeighborsRegressor(n_neighbors=K_three)\n",
    "neigh.fit(x_train,y_train)\n",
    "\n",
    "X_eval = np.linspace(0, 10,1000)\n",
    "X_eval = X_eval.reshape(-1,1)"
   ]
  },
  {
   "cell_type": "code",
   "execution_count": 96,
   "id": "9c6b9efb",
   "metadata": {},
   "outputs": [
    {
     "data": {
      "image/png": "[encoded data removed]",
      "text/plain": [
       "<Figure size 432x288 with 1 Axes>"
      ]
     },
     "metadata": {
      "needs_background": "light"
     },
     "output_type": "display_data"
    }
   ],
   "source": [
    "plt.figure()\n",
    "plt.plot(X_eval, neigh.predict(X_eval), label= \"KNN Regression Prediction\")\n",
    "plt.title(\"KNN Regression\")\n",
    "plt.plot(x_train, y_train, 'bo', markersize=12, label=\"training set\")\n",
    "plt.show()"
   ]
  },
  {
   "cell_type": "markdown",
   "id": "ce12cfd5",
   "metadata": {},
   "source": [
    "Out of three k-values, K-three gives the most reliable but most locally inaccurate data. "
   ]
  }
 ],
 "metadata": {
  "kernelspec": {
   "display_name": "Python 3 (ipykernel)",
   "language": "python",
   "name": "python3"
  },
  "language_info": {
   "codemirror_mode": {
    "name": "ipython",
    "version": 3
   },
   "file_extension": ".py",
   "mimetype": "text/x-python",
   "name": "python",
   "nbconvert_exporter": "python",
   "pygments_lexer": "ipython3",
   "version": "3.9.7"
  }
 },
 "nbformat": 4,
 "nbformat_minor": 5
}
