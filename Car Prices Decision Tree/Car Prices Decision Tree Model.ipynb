{
 "cells": [
  {
   "cell_type": "markdown",
   "id": "472fba24",
   "metadata": {},
   "source": [
    "# Exploring Data"
   ]
  },
  {
   "cell_type": "code",
   "execution_count": 97,
   "id": "abd195da",
   "metadata": {},
   "outputs": [],
   "source": [
    "import pandas as pd\n",
    "\n",
    "#Path of the file to read \n",
    "carprices_file_path = \"Downloads/car_price.csv.xls\"\n",
    "#Read the file into a variable called home data \n",
    "home_data = pd.read_csv(carprices_file_path)"
   ]
  },
  {
   "cell_type": "code",
   "execution_count": 98,
   "id": "6a9ee923",
   "metadata": {},
   "outputs": [
    {
     "data": {
      "text/html": [
       "<div>\n",
       "<style scoped>\n",
       "    .dataframe tbody tr th:only-of-type {\n",
       "        vertical-align: middle;\n",
       "    }\n",
       "\n",
       "    .dataframe tbody tr th {\n",
       "        vertical-align: top;\n",
       "    }\n",
       "\n",
       "    .dataframe thead th {\n",
       "        text-align: right;\n",
       "    }\n",
       "</style>\n",
       "<table border=\"1\" class=\"dataframe\">\n",
       "  <thead>\n",
       "    <tr style=\"text-align: right;\">\n",
       "      <th></th>\n",
       "      <th>car_ID</th>\n",
       "      <th>symboling</th>\n",
       "      <th>wheelbase</th>\n",
       "      <th>carlength</th>\n",
       "      <th>carwidth</th>\n",
       "      <th>carheight</th>\n",
       "      <th>curbweight</th>\n",
       "      <th>enginesize</th>\n",
       "      <th>boreratio</th>\n",
       "      <th>stroke</th>\n",
       "      <th>compressionratio</th>\n",
       "      <th>horsepower</th>\n",
       "      <th>peakrpm</th>\n",
       "      <th>citympg</th>\n",
       "      <th>highwaympg</th>\n",
       "      <th>price</th>\n",
       "    </tr>\n",
       "  </thead>\n",
       "  <tbody>\n",
       "    <tr>\n",
       "      <th>count</th>\n",
       "      <td>205.000000</td>\n",
       "      <td>205.000000</td>\n",
       "      <td>205.000000</td>\n",
       "      <td>205.000000</td>\n",
       "      <td>205.000000</td>\n",
       "      <td>205.000000</td>\n",
       "      <td>205.000000</td>\n",
       "      <td>205.000000</td>\n",
       "      <td>205.000000</td>\n",
       "      <td>205.000000</td>\n",
       "      <td>205.000000</td>\n",
       "      <td>205.000000</td>\n",
       "      <td>205.000000</td>\n",
       "      <td>205.000000</td>\n",
       "      <td>205.000000</td>\n",
       "      <td>205.000000</td>\n",
       "    </tr>\n",
       "    <tr>\n",
       "      <th>mean</th>\n",
       "      <td>103.000000</td>\n",
       "      <td>0.834146</td>\n",
       "      <td>98.756585</td>\n",
       "      <td>174.049268</td>\n",
       "      <td>65.907805</td>\n",
       "      <td>53.724878</td>\n",
       "      <td>2555.565854</td>\n",
       "      <td>126.907317</td>\n",
       "      <td>3.329756</td>\n",
       "      <td>3.255415</td>\n",
       "      <td>10.142537</td>\n",
       "      <td>104.117073</td>\n",
       "      <td>5125.121951</td>\n",
       "      <td>25.219512</td>\n",
       "      <td>30.751220</td>\n",
       "      <td>13276.710571</td>\n",
       "    </tr>\n",
       "    <tr>\n",
       "      <th>std</th>\n",
       "      <td>59.322565</td>\n",
       "      <td>1.245307</td>\n",
       "      <td>6.021776</td>\n",
       "      <td>12.337289</td>\n",
       "      <td>2.145204</td>\n",
       "      <td>2.443522</td>\n",
       "      <td>520.680204</td>\n",
       "      <td>41.642693</td>\n",
       "      <td>0.270844</td>\n",
       "      <td>0.313597</td>\n",
       "      <td>3.972040</td>\n",
       "      <td>39.544167</td>\n",
       "      <td>476.985643</td>\n",
       "      <td>6.542142</td>\n",
       "      <td>6.886443</td>\n",
       "      <td>7988.852332</td>\n",
       "    </tr>\n",
       "    <tr>\n",
       "      <th>min</th>\n",
       "      <td>1.000000</td>\n",
       "      <td>-2.000000</td>\n",
       "      <td>86.600000</td>\n",
       "      <td>141.100000</td>\n",
       "      <td>60.300000</td>\n",
       "      <td>47.800000</td>\n",
       "      <td>1488.000000</td>\n",
       "      <td>61.000000</td>\n",
       "      <td>2.540000</td>\n",
       "      <td>2.070000</td>\n",
       "      <td>7.000000</td>\n",
       "      <td>48.000000</td>\n",
       "      <td>4150.000000</td>\n",
       "      <td>13.000000</td>\n",
       "      <td>16.000000</td>\n",
       "      <td>5118.000000</td>\n",
       "    </tr>\n",
       "    <tr>\n",
       "      <th>25%</th>\n",
       "      <td>52.000000</td>\n",
       "      <td>0.000000</td>\n",
       "      <td>94.500000</td>\n",
       "      <td>166.300000</td>\n",
       "      <td>64.100000</td>\n",
       "      <td>52.000000</td>\n",
       "      <td>2145.000000</td>\n",
       "      <td>97.000000</td>\n",
       "      <td>3.150000</td>\n",
       "      <td>3.110000</td>\n",
       "      <td>8.600000</td>\n",
       "      <td>70.000000</td>\n",
       "      <td>4800.000000</td>\n",
       "      <td>19.000000</td>\n",
       "      <td>25.000000</td>\n",
       "      <td>7788.000000</td>\n",
       "    </tr>\n",
       "    <tr>\n",
       "      <th>50%</th>\n",
       "      <td>103.000000</td>\n",
       "      <td>1.000000</td>\n",
       "      <td>97.000000</td>\n",
       "      <td>173.200000</td>\n",
       "      <td>65.500000</td>\n",
       "      <td>54.100000</td>\n",
       "      <td>2414.000000</td>\n",
       "      <td>120.000000</td>\n",
       "      <td>3.310000</td>\n",
       "      <td>3.290000</td>\n",
       "      <td>9.000000</td>\n",
       "      <td>95.000000</td>\n",
       "      <td>5200.000000</td>\n",
       "      <td>24.000000</td>\n",
       "      <td>30.000000</td>\n",
       "      <td>10295.000000</td>\n",
       "    </tr>\n",
       "    <tr>\n",
       "      <th>75%</th>\n",
       "      <td>154.000000</td>\n",
       "      <td>2.000000</td>\n",
       "      <td>102.400000</td>\n",
       "      <td>183.100000</td>\n",
       "      <td>66.900000</td>\n",
       "      <td>55.500000</td>\n",
       "      <td>2935.000000</td>\n",
       "      <td>141.000000</td>\n",
       "      <td>3.580000</td>\n",
       "      <td>3.410000</td>\n",
       "      <td>9.400000</td>\n",
       "      <td>116.000000</td>\n",
       "      <td>5500.000000</td>\n",
       "      <td>30.000000</td>\n",
       "      <td>34.000000</td>\n",
       "      <td>16503.000000</td>\n",
       "    </tr>\n",
       "    <tr>\n",
       "      <th>max</th>\n",
       "      <td>205.000000</td>\n",
       "      <td>3.000000</td>\n",
       "      <td>120.900000</td>\n",
       "      <td>208.100000</td>\n",
       "      <td>72.300000</td>\n",
       "      <td>59.800000</td>\n",
       "      <td>4066.000000</td>\n",
       "      <td>326.000000</td>\n",
       "      <td>3.940000</td>\n",
       "      <td>4.170000</td>\n",
       "      <td>23.000000</td>\n",
       "      <td>288.000000</td>\n",
       "      <td>6600.000000</td>\n",
       "      <td>49.000000</td>\n",
       "      <td>54.000000</td>\n",
       "      <td>45400.000000</td>\n",
       "    </tr>\n",
       "  </tbody>\n",
       "</table>\n",
       "</div>"
      ],
      "text/plain": [
       "           car_ID   symboling   wheelbase   carlength    carwidth   carheight  \\\n",
       "count  205.000000  205.000000  205.000000  205.000000  205.000000  205.000000   \n",
       "mean   103.000000    0.834146   98.756585  174.049268   65.907805   53.724878   \n",
       "std     59.322565    1.245307    6.021776   12.337289    2.145204    2.443522   \n",
       "min      1.000000   -2.000000   86.600000  141.100000   60.300000   47.800000   \n",
       "25%     52.000000    0.000000   94.500000  166.300000   64.100000   52.000000   \n",
       "50%    103.000000    1.000000   97.000000  173.200000   65.500000   54.100000   \n",
       "75%    154.000000    2.000000  102.400000  183.100000   66.900000   55.500000   \n",
       "max    205.000000    3.000000  120.900000  208.100000   72.300000   59.800000   \n",
       "\n",
       "        curbweight  enginesize   boreratio      stroke  compressionratio  \\\n",
       "count   205.000000  205.000000  205.000000  205.000000        205.000000   \n",
       "mean   2555.565854  126.907317    3.329756    3.255415         10.142537   \n",
       "std     520.680204   41.642693    0.270844    0.313597          3.972040   \n",
       "min    1488.000000   61.000000    2.540000    2.070000          7.000000   \n",
       "25%    2145.000000   97.000000    3.150000    3.110000          8.600000   \n",
       "50%    2414.000000  120.000000    3.310000    3.290000          9.000000   \n",
       "75%    2935.000000  141.000000    3.580000    3.410000          9.400000   \n",
       "max    4066.000000  326.000000    3.940000    4.170000         23.000000   \n",
       "\n",
       "       horsepower      peakrpm     citympg  highwaympg         price  \n",
       "count  205.000000   205.000000  205.000000  205.000000    205.000000  \n",
       "mean   104.117073  5125.121951   25.219512   30.751220  13276.710571  \n",
       "std     39.544167   476.985643    6.542142    6.886443   7988.852332  \n",
       "min     48.000000  4150.000000   13.000000   16.000000   5118.000000  \n",
       "25%     70.000000  4800.000000   19.000000   25.000000   7788.000000  \n",
       "50%     95.000000  5200.000000   24.000000   30.000000  10295.000000  \n",
       "75%    116.000000  5500.000000   30.000000   34.000000  16503.000000  \n",
       "max    288.000000  6600.000000   49.000000   54.000000  45400.000000  "
      ]
     },
     "execution_count": 98,
     "metadata": {},
     "output_type": "execute_result"
    }
   ],
   "source": [
    "#Review the data \n",
    "home_data.describe()"
   ]
  },
  {
   "cell_type": "code",
   "execution_count": 99,
   "id": "7d9d6fa6",
   "metadata": {},
   "outputs": [],
   "source": [
    "y = home_data.price"
   ]
  },
  {
   "cell_type": "code",
   "execution_count": 100,
   "id": "e2254158",
   "metadata": {},
   "outputs": [
    {
     "name": "stdout",
     "output_type": "stream",
     "text": [
      "     wheelbase  carlength  carwidth  carheight  curbweight  enginesize  \\\n",
      "0         88.6      168.8      64.1       48.8        2548         130   \n",
      "1         88.6      168.8      64.1       48.8        2548         130   \n",
      "2         94.5      171.2      65.5       52.4        2823         152   \n",
      "3         99.8      176.6      66.2       54.3        2337         109   \n",
      "4         99.4      176.6      66.4       54.3        2824         136   \n",
      "..         ...        ...       ...        ...         ...         ...   \n",
      "200      109.1      188.8      68.9       55.5        2952         141   \n",
      "201      109.1      188.8      68.8       55.5        3049         141   \n",
      "202      109.1      188.8      68.9       55.5        3012         173   \n",
      "203      109.1      188.8      68.9       55.5        3217         145   \n",
      "204      109.1      188.8      68.9       55.5        3062         141   \n",
      "\n",
      "     boreratio  stroke  compressionratio  horsepower  peakrpm  citympg  \\\n",
      "0         3.47    2.68               9.0         111     5000       21   \n",
      "1         3.47    2.68               9.0         111     5000       21   \n",
      "2         2.68    3.47               9.0         154     5000       19   \n",
      "3         3.19    3.40              10.0         102     5500       24   \n",
      "4         3.19    3.40               8.0         115     5500       18   \n",
      "..         ...     ...               ...         ...      ...      ...   \n",
      "200       3.78    3.15               9.5         114     5400       23   \n",
      "201       3.78    3.15               8.7         160     5300       19   \n",
      "202       3.58    2.87               8.8         134     5500       18   \n",
      "203       3.01    3.40              23.0         106     4800       26   \n",
      "204       3.78    3.15               9.5         114     5400       19   \n",
      "\n",
      "     highwaympg  \n",
      "0            27  \n",
      "1            27  \n",
      "2            26  \n",
      "3            30  \n",
      "4            22  \n",
      "..          ...  \n",
      "200          28  \n",
      "201          25  \n",
      "202          23  \n",
      "203          27  \n",
      "204          25  \n",
      "\n",
      "[205 rows x 13 columns]\n"
     ]
    }
   ],
   "source": [
    "#Create the list of features of the car\n",
    "feature_names = [\"wheelbase\", \"carlength\", \"carwidth\", \"carheight\", \"curbweight\", \"enginesize\", \"boreratio\",\"stroke\", \"compressionratio\", \"horsepower\", \"peakrpm\", \"citympg\", \"highwaympg\"]\n",
    "X= home_data[feature_names]\n",
    "\n",
    "print(X)"
   ]
  },
  {
   "cell_type": "code",
   "execution_count": 101,
   "id": "9cee1709",
   "metadata": {},
   "outputs": [
    {
     "name": "stdout",
     "output_type": "stream",
     "text": [
      "<bound method NDFrame.head of      wheelbase  carlength  carwidth  carheight  curbweight  enginesize  \\\n",
      "0         88.6      168.8      64.1       48.8        2548         130   \n",
      "1         88.6      168.8      64.1       48.8        2548         130   \n",
      "2         94.5      171.2      65.5       52.4        2823         152   \n",
      "3         99.8      176.6      66.2       54.3        2337         109   \n",
      "4         99.4      176.6      66.4       54.3        2824         136   \n",
      "..         ...        ...       ...        ...         ...         ...   \n",
      "200      109.1      188.8      68.9       55.5        2952         141   \n",
      "201      109.1      188.8      68.8       55.5        3049         141   \n",
      "202      109.1      188.8      68.9       55.5        3012         173   \n",
      "203      109.1      188.8      68.9       55.5        3217         145   \n",
      "204      109.1      188.8      68.9       55.5        3062         141   \n",
      "\n",
      "     boreratio  stroke  compressionratio  horsepower  peakrpm  citympg  \\\n",
      "0         3.47    2.68               9.0         111     5000       21   \n",
      "1         3.47    2.68               9.0         111     5000       21   \n",
      "2         2.68    3.47               9.0         154     5000       19   \n",
      "3         3.19    3.40              10.0         102     5500       24   \n",
      "4         3.19    3.40               8.0         115     5500       18   \n",
      "..         ...     ...               ...         ...      ...      ...   \n",
      "200       3.78    3.15               9.5         114     5400       23   \n",
      "201       3.78    3.15               8.7         160     5300       19   \n",
      "202       3.58    2.87               8.8         134     5500       18   \n",
      "203       3.01    3.40              23.0         106     4800       26   \n",
      "204       3.78    3.15               9.5         114     5400       19   \n",
      "\n",
      "     highwaympg  \n",
      "0            27  \n",
      "1            27  \n",
      "2            26  \n",
      "3            30  \n",
      "4            22  \n",
      "..          ...  \n",
      "200          28  \n",
      "201          25  \n",
      "202          23  \n",
      "203          27  \n",
      "204          25  \n",
      "\n",
      "[205 rows x 13 columns]>\n"
     ]
    }
   ],
   "source": [
    "print(X.head)"
   ]
  },
  {
   "cell_type": "markdown",
   "id": "c0c5b516",
   "metadata": {},
   "source": [
    "# 1: Decision Tree Regression Model"
   ]
  },
  {
   "cell_type": "code",
   "execution_count": 70,
   "id": "34c38678",
   "metadata": {},
   "outputs": [
    {
     "data": {
      "text/plain": [
       "DecisionTreeRegressor(random_state=1)"
      ]
     },
     "execution_count": 70,
     "metadata": {},
     "output_type": "execute_result"
    }
   ],
   "source": [
    "from sklearn.tree import DecisionTreeRegressor\n",
    "\n",
    "#specify model\n",
    "car_model = DecisionTreeRegressor(random_state = 1)\n",
    "\n",
    "#Fit the model\n",
    "car_model.fit(X,y)"
   ]
  },
  {
   "cell_type": "code",
   "execution_count": 74,
   "id": "0f8f2e8a",
   "metadata": {},
   "outputs": [
    {
     "name": "stdout",
     "output_type": "stream",
     "text": [
      "First in_sample predictions: [14997.5 14997.5 16500.  13950.  17450. ]\n",
      "Actual target values for those cars:  [13495.0, 16500.0, 16500.0, 13950.0, 17450.0]\n"
     ]
    }
   ],
   "source": [
    "print(\"First in_sample predictions:\", car_model.predict(X.head()))\n",
    "print(\"Actual target values for those cars: \", y.head().tolist())"
   ]
  },
  {
   "cell_type": "code",
   "execution_count": 83,
   "id": "3ae84b18",
   "metadata": {},
   "outputs": [],
   "source": [
    "#Above the mean absolute error is 601 \n",
    "# This is lower than the one below as it only deals with the first 5 cars"
   ]
  },
  {
   "cell_type": "code",
   "execution_count": 84,
   "id": "b5602d81",
   "metadata": {},
   "outputs": [],
   "source": [
    "# split into validation data and test data\n",
    "from sklearn.model_selection import train_test_split\n",
    "\n",
    "train_X, val_X, train_y, val_y = train_test_split(X, y, random_state = 1)"
   ]
  },
  {
   "cell_type": "code",
   "execution_count": 86,
   "id": "e3c55087",
   "metadata": {},
   "outputs": [
    {
     "data": {
      "text/plain": [
       "DecisionTreeRegressor(random_state=1)"
      ]
     },
     "execution_count": 86,
     "metadata": {},
     "output_type": "execute_result"
    }
   ],
   "source": [
    "# specify the model and fit it \n",
    "car_model = DecisionTreeRegressor(random_state=1)\n",
    "\n",
    "car_model.fit(train_X, train_y)"
   ]
  },
  {
   "cell_type": "code",
   "execution_count": 87,
   "id": "bd5b8c94",
   "metadata": {},
   "outputs": [],
   "source": [
    "#make predictions with validation data\n",
    "\n",
    "val_predictions = car_model.predict(val_X)"
   ]
  },
  {
   "cell_type": "code",
   "execution_count": 79,
   "id": "c9610680",
   "metadata": {},
   "outputs": [
    {
     "name": "stdout",
     "output_type": "stream",
     "text": [
      "1589.9615384615386\n"
     ]
    }
   ],
   "source": [
    "from sklearn.metrics import mean_absolute_error\n",
    "\n",
    "val_mae = mean_absolute_error(val_y, val_predictions)\n",
    "print(val_mae)"
   ]
  },
  {
   "cell_type": "markdown",
   "id": "820b1335",
   "metadata": {},
   "source": [
    "#### Mean absolute error is 1589.96"
   ]
  },
  {
   "cell_type": "markdown",
   "id": "9327a8ac",
   "metadata": {},
   "source": [
    "# 2: Overfitting and Underfitting"
   ]
  },
  {
   "cell_type": "code",
   "execution_count": 107,
   "id": "2dbdbe68",
   "metadata": {},
   "outputs": [],
   "source": [
    "# Underfitting and overfitting using different tree sizes\n",
    "\n",
    "#Define Get Mean Absolute Error function\n",
    "def get_mae(max_leaf_nodes, train_X, val_X, train_y, val_y):\n",
    "    model = DecisionTreeRegressor(max_leaf_nodes=max_leaf_nodes, random_state =0)\n",
    "    model.fit(train_X, train_y)\n",
    "    preds_val = model.predict(val_X)\n",
    "    mae = mean_absolute_error(val_y, preds_val)\n",
    "    return mae"
   ]
  },
  {
   "cell_type": "markdown",
   "id": "24e00c45",
   "metadata": {},
   "source": [
    "## Overfitting model 1"
   ]
  },
  {
   "cell_type": "code",
   "execution_count": 120,
   "id": "2773861e",
   "metadata": {},
   "outputs": [
    {
     "name": "stdout",
     "output_type": "stream",
     "text": [
      "Max leaf nodes: 5 \t\t Mean Absolute Error: 2294\n",
      "Max leaf nodes: 15 \t\t Mean Absolute Error: 1717\n",
      "Max leaf nodes: 50 \t\t Mean Absolute Error: 1615\n",
      "Max leaf nodes: 100 \t\t Mean Absolute Error: 1638\n",
      "Max leaf nodes: 250 \t\t Mean Absolute Error: 1648\n",
      "Max leaf nodes: 500 \t\t Mean Absolute Error: 1648\n"
     ]
    }
   ],
   "source": [
    "candidate_max_leaf_nodes = [5, 15, 50, 100, 250, 500]\n",
    "\n",
    "for max_leaf_nodes in candidate_max_leaf_nodes:\n",
    "    my_mae = get_mae(max_leaf_nodes, train_X, val_X, train_y, val_y)\n",
    "    print(\"Max leaf nodes: %d \\t\\t Mean Absolute Error: %d\" %(max_leaf_nodes, my_mae))"
   ]
  },
  {
   "cell_type": "markdown",
   "id": "14c821cd",
   "metadata": {},
   "source": [
    "#### Since the above overfitting model above has a higher lowest mean absolute error (1615) than the initial (1589) we decide to choose a different array of max_leaf_nodes to get more specific results"
   ]
  },
  {
   "cell_type": "markdown",
   "id": "7e2770cd",
   "metadata": {},
   "source": [
    "# Overfitting model 2"
   ]
  },
  {
   "cell_type": "code",
   "execution_count": 119,
   "id": "beba6b96",
   "metadata": {},
   "outputs": [
    {
     "name": "stdout",
     "output_type": "stream",
     "text": [
      "Max leaf nodes: 15 \t\t Mean Absolute Error: 1717\n",
      "Max leaf nodes: 20 \t\t Mean Absolute Error: 1781\n",
      "Max leaf nodes: 25 \t\t Mean Absolute Error: 1749\n",
      "Max leaf nodes: 30 \t\t Mean Absolute Error: 1589\n",
      "Max leaf nodes: 35 \t\t Mean Absolute Error: 1656\n",
      "Max leaf nodes: 40 \t\t Mean Absolute Error: 1620\n"
     ]
    }
   ],
   "source": [
    "candidate_max_leaf_nodes = [15, 20, 25, 30, 35, 40]\n",
    "\n",
    "for max_leaf_nodes in candidate_max_leaf_nodes:\n",
    "    my_mae = get_mae(max_leaf_nodes, train_X, val_X, train_y, val_y)\n",
    "    print(\"Max leaf nodes: %d \\t\\t Mean Absolute Error: %d\" %(max_leaf_nodes, my_mae))"
   ]
  },
  {
   "cell_type": "markdown",
   "id": "15217036",
   "metadata": {},
   "source": [
    "#### Mean absolute error is 1589. We hope to find a MAE that is even lower"
   ]
  },
  {
   "cell_type": "markdown",
   "id": "c1a92c1d",
   "metadata": {},
   "source": [
    "## Overfitting model 3"
   ]
  },
  {
   "cell_type": "code",
   "execution_count": 116,
   "id": "2cede721",
   "metadata": {},
   "outputs": [
    {
     "name": "stdout",
     "output_type": "stream",
     "text": [
      "Max leaf nodes: 30 \t\t Mean Absolute Error: 1589\n",
      "Max leaf nodes: 31 \t\t Mean Absolute Error: 1589\n",
      "Max leaf nodes: 32 \t\t Mean Absolute Error: 1580\n",
      "Max leaf nodes: 33 \t\t Mean Absolute Error: 1580\n",
      "Max leaf nodes: 34 \t\t Mean Absolute Error: 1647\n",
      "Max leaf nodes: 35 \t\t Mean Absolute Error: 1656\n"
     ]
    }
   ],
   "source": [
    "candidate_max_leaf_nodes = [30, 31, 32,33,34,35]\n",
    "\n",
    "for max_leaf_nodes in candidate_max_leaf_nodes:\n",
    "    my_mae = get_mae(max_leaf_nodes, train_X, val_X, train_y, val_y)\n",
    "    print(\"Max leaf nodes: %d \\t\\t Mean Absolute Error: %d\" %(max_leaf_nodes, my_mae))"
   ]
  },
  {
   "cell_type": "code",
   "execution_count": 122,
   "id": "d15c0b33",
   "metadata": {},
   "outputs": [
    {
     "data": {
      "text/plain": [
       "DecisionTreeRegressor(max_leaf_nodes=32, random_state=1)"
      ]
     },
     "execution_count": 122,
     "metadata": {},
     "output_type": "execute_result"
    }
   ],
   "source": [
    "#as shown above, the smallest MAE is at max leaf nodes = 50\n",
    "best_tree_size = 32\n",
    "\n",
    "final_model = DecisionTreeRegressor(max_leaf_nodes = best_tree_size, random_state = 1)\n",
    "final_model.fit(X,y)"
   ]
  },
  {
   "cell_type": "markdown",
   "id": "cce6ec9d",
   "metadata": {},
   "source": [
    "#### Mean absolute error is 1580. "
   ]
  },
  {
   "cell_type": "markdown",
   "id": "c80838ff",
   "metadata": {},
   "source": [
    "# Random Forest Regression Model"
   ]
  },
  {
   "cell_type": "code",
   "execution_count": 106,
   "id": "af0ace1c",
   "metadata": {},
   "outputs": [],
   "source": [
    "# Seeing if we can make the error smaller with random forests\n",
    "\n",
    "from sklearn.ensemble import RandomForestRegressor\n",
    "rf_model = RandomForestRegressor(random_state = 1)"
   ]
  },
  {
   "cell_type": "code",
   "execution_count": 91,
   "id": "131fe0a0",
   "metadata": {},
   "outputs": [
    {
     "name": "stdout",
     "output_type": "stream",
     "text": [
      "Validation MAE for Random FOrest Model:1359.7681628846153\n"
     ]
    }
   ],
   "source": [
    "# fit the model\n",
    "rf_model.fit(train_X, train_y)\n",
    "val_preds = rf_model.predict(val_X)\n",
    "\n",
    "rf_val_mae = mean_absolute_error(val_y, val_preds)\n",
    "print(\"Validation MAE for Random FOrest Model:{}\".format(rf_val_mae))"
   ]
  },
  {
   "cell_type": "markdown",
   "id": "04a3b84b",
   "metadata": {},
   "source": [
    "#### As you can see the mean absolute error is 1359.8, reducing the MAE by 230."
   ]
  },
  {
   "cell_type": "code",
   "execution_count": null,
   "id": "499d6b0d",
   "metadata": {},
   "outputs": [],
   "source": []
  }
 ],
 "metadata": {
  "kernelspec": {
   "display_name": "Python 3 (ipykernel)",
   "language": "python",
   "name": "python3"
  },
  "language_info": {
   "codemirror_mode": {
    "name": "ipython",
    "version": 3
   },
   "file_extension": ".py",
   "mimetype": "text/x-python",
   "name": "python",
   "nbconvert_exporter": "python",
   "pygments_lexer": "ipython3",
   "version": "3.9.7"
  }
 },
 "nbformat": 4,
 "nbformat_minor": 5
